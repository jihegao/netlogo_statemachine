{
 "cells": [
  {
   "cell_type": "code",
   "execution_count": 6,
   "metadata": {},
   "outputs": [
    {
     "data": {
      "text/plain": [
       "'BEGIN PROFILING DUMP\n",
       "Sorted by Exclusive Time\n",
       "Name                               Calls Incl T(ms) Excl T(ms) Excl/calls\n",
       "GO                                 10000   2095.109   1093.575      0.109\n",
       "EXECUTE-STATE                    1723976    902.486    662.784      0.000\n",
       "WIGGLE                           1808714    104.922    104.922      0.000\n",
       "HAS-FREE-CHIP-HERE?               738477     27.467     27.467      0.000\n",
       "GET_STATE_FUNCTION                341236     25.503     25.503      0.000\n",
       "UPDATE-CURRENT-STATE              341236     50.540     25.037      0.000\n",
       "SEARCH-FOR-CHIP                   738192     16.343     16.343      0.000\n",
       "FIND-NEW-PILE                     643087     12.144     12.144      0.000\n",
       "IS-EMPTY-HERE?                    144046      7.873      7.873      0.000\n",
       "PICK-UP-CHIP                       57039      6.108      6.108      0.000\n",
       "PUT-DOWN-CHIP                      56851      6.107      6.107      0.000\n",
       "GET-AWAY                           84738     10.780      4.905      0.000\n",
       "FIND-PLACE-TO-PUT-DOWN-CHIP       144069      2.921      2.921      0.000\n",
       "\n",
       "Sorted by Inclusive Time\n",
       "GO                                 10000   2095.109   1093.575      0.109\n",
       "EXECUTE-STATE                    1723976    902.486    662.784      0.000\n",
       "WIGGLE                           1808714    104.922    104.922      0.000\n",
       "UPDATE-CURRENT-STATE              341236     50.540     25.037      0.000\n",
       "HAS-FREE-CHIP-HERE?               738477     27.467     27.467      0.000\n",
       "GET_STATE_FUNCTION                341236     25.503     25.503      0.000\n",
       "SEARCH-FOR-CHIP                   738192     16.343     16.343      0.000\n",
       "FIND-NEW-PILE                     643087     12.144     12.144      0.000\n",
       "GET-AWAY                           84738     10.780      4.905      0.000\n",
       "IS-EMPTY-HERE?                    144046      7.873      7.873      0.000\n",
       "PICK-UP-CHIP                       57039      6.108      6.108      0.000\n",
       "PUT-DOWN-CHIP                      56851      6.107      6.107      0.000\n",
       "FIND-PLACE-TO-PUT-DOWN-CHIP       144069      2.921      2.921      0.000\n",
       "\n",
       "Sorted by Number of Calls\n",
       "WIGGLE                           1808714    104.922    104.922      0.000\n",
       "EXECUTE-STATE                    1723976    902.486    662.784      0.000\n",
       "HAS-FREE-CHIP-HERE?               738477     27.467     27.467      0.000\n",
       "SEARCH-FOR-CHIP                   738192     16.343     16.343      0.000\n",
       "FIND-NEW-PILE                     643087     12.144     12.144      0.000\n",
       "UPDATE-CURRENT-STATE              341236     50.540     25.037      0.000\n",
       "GET_STATE_FUNCTION                341236     25.503     25.503      0.000\n",
       "FIND-PLACE-TO-PUT-DOWN-CHIP       144069      2.921      2.921      0.000\n",
       "IS-EMPTY-HERE?                    144046      7.873      7.873      0.000\n",
       "GET-AWAY                           84738     10.780      4.905      0.000\n",
       "PICK-UP-CHIP                       57039      6.108      6.108      0.000\n",
       "PUT-DOWN-CHIP                      56851      6.107      6.107      0.000\n",
       "GO                                 10000   2095.109   1093.575      0.109\n",
       "END PROFILING DUMP\n",
       "'"
      ]
     },
     "execution_count": 6,
     "metadata": {},
     "output_type": "execute_result"
    }
   ],
   "source": [
    "# run netlogo model with profiler extension to test the speed of the model\n",
    "\n",
    "import pynetlogo\n",
    "\n",
    "# create pynetlogo link\n",
    "sim = pynetlogo.NetLogoLink(gui=False, \\\n",
    "                            jvm_path='/Library/Java/JavaVirtualMachines/jdk-19.jdk/Contents/MacOS/libjli.dylib')\n",
    "sim.load_model('demo_turtle_exec_statechart.nlogo')\n",
    "sim.command('setup')\n",
    "# initiate profiler\n",
    "sim.command('profiler:start')\n",
    "sim.command('repeat 10000 [go]')\n",
    "# stop profiler\n",
    "sim.command('profiler:stop')\n",
    "sim.report('profiler:report')"
   ]
  },
  {
   "cell_type": "code",
   "execution_count": 4,
   "metadata": {},
   "outputs": [
    {
     "data": {
      "text/plain": [
       "'BEGIN PROFILING DUMP\n",
       "Sorted by Exclusive Time\n",
       "Name                               Calls Incl T(ms) Excl T(ms) Excl/calls\n",
       "GO                                 10000   1232.311    957.571      0.096\n",
       "WIGGLE                           1630547    126.643    126.643      0.000\n",
       "SEARCH-FOR-CHIP                   739446     28.049     28.049      0.000\n",
       "FIND-NEW-PILE                     648680     21.131     21.131      0.000\n",
       "PUT-DOWN-CHIP                     153451     13.104     13.104      0.000\n",
       "GET-AWAY                           88970      5.824      5.824      0.000\n",
       "\n",
       "Sorted by Inclusive Time\n",
       "GO                                 10000   1232.311    957.571      0.096\n",
       "WIGGLE                           1630547    126.643    126.643      0.000\n",
       "SEARCH-FOR-CHIP                   739446     28.049     28.049      0.000\n",
       "FIND-NEW-PILE                     648680     21.131     21.131      0.000\n",
       "PUT-DOWN-CHIP                     153451     13.104     13.104      0.000\n",
       "GET-AWAY                           88970      5.824      5.824      0.000\n",
       "\n",
       "Sorted by Number of Calls\n",
       "WIGGLE                           1630547    126.643    126.643      0.000\n",
       "SEARCH-FOR-CHIP                   739446     28.049     28.049      0.000\n",
       "FIND-NEW-PILE                     648680     21.131     21.131      0.000\n",
       "PUT-DOWN-CHIP                     153451     13.104     13.104      0.000\n",
       "GET-AWAY                           88970      5.824      5.824      0.000\n",
       "GO                                 10000   1232.311    957.571      0.096\n",
       "END PROFILING DUMP\n",
       "'"
      ]
     },
     "execution_count": 4,
     "metadata": {},
     "output_type": "execute_result"
    }
   ],
   "source": [
    "# run netlogo model with profiler extension to test the speed of the model\n",
    "\n",
    "import pynetlogo\n",
    "\n",
    "# create pynetlogo link\n",
    "sim = pynetlogo.NetLogoLink(gui=False, \\\n",
    "                            jvm_path='/Library/Java/JavaVirtualMachines/jdk-19.jdk/Contents/MacOS/libjli.dylib')\n",
    "sim.load_model('State Machine Example.nlogo')\n",
    "sim.command('setup')\n",
    "# initiate profiler\n",
    "sim.command('profiler:start')\n",
    "sim.command('repeat 10000 [go]')\n",
    "# stop profiler\n",
    "sim.command('profiler:stop')\n",
    "sim.report('profiler:report')"
   ]
  },
  {
   "cell_type": "code",
   "execution_count": 5,
   "metadata": {},
   "outputs": [
    {
     "ename": "SyntaxError",
     "evalue": "invalid syntax (<string>, line 1)",
     "output_type": "error",
     "traceback": [
      "Traceback \u001b[0;36m(most recent call last)\u001b[0m:\n",
      "\u001b[0m  File \u001b[1;32m~/miniforge3/lib/python3.10/site-packages/IPython/core/interactiveshell.py:3505\u001b[0m in \u001b[1;35mrun_code\u001b[0m\n    exec(code_obj, self.user_global_ns, self.user_ns)\u001b[0m\n",
      "\u001b[0;36m  Cell \u001b[0;32mIn[5], line 1\u001b[0;36m\n\u001b[0;31m    eval('x = 1')\u001b[0;36m\n",
      "\u001b[0;36m  File \u001b[0;32m<string>:1\u001b[0;36m\u001b[0m\n\u001b[0;31m    x = 1\u001b[0m\n\u001b[0m      ^\u001b[0m\n\u001b[0;31mSyntaxError\u001b[0m\u001b[0;31m:\u001b[0m invalid syntax\n"
     ]
    }
   ],
   "source": [
    "eval('x = 1')\n",
    "x"
   ]
  }
 ],
 "metadata": {
  "kernelspec": {
   "display_name": "base",
   "language": "python",
   "name": "python3"
  },
  "language_info": {
   "codemirror_mode": {
    "name": "ipython",
    "version": 3
   },
   "file_extension": ".py",
   "mimetype": "text/x-python",
   "name": "python",
   "nbconvert_exporter": "python",
   "pygments_lexer": "ipython3",
   "version": "3.10.14"
  }
 },
 "nbformat": 4,
 "nbformat_minor": 2
}
